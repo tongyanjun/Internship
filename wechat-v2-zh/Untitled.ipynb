{
 "cells": [
  {
   "cell_type": "code",
   "execution_count": 13,
   "metadata": {},
   "outputs": [
    {
     "ename": "SyntaxError",
     "evalue": "Missing parentheses in call to 'print'. Did you mean print(e)? (WXBizMsgCrypt.py, line 58)",
     "output_type": "error",
     "traceback": [
      "Traceback \u001b[1;36m(most recent call last)\u001b[0m:\n",
      "  File \u001b[0;32m\"c:\\users\\i515013\\appdata\\local\\programs\\python\\python36\\lib\\site-packages\\IPython\\core\\interactiveshell.py\"\u001b[0m, line \u001b[0;32m3326\u001b[0m, in \u001b[0;35mrun_code\u001b[0m\n    exec(code_obj, self.user_global_ns, self.user_ns)\n",
      "\u001b[1;36m  File \u001b[1;32m\"<ipython-input-13-f9e24cf036d0>\"\u001b[1;36m, line \u001b[1;32m2\u001b[1;36m, in \u001b[1;35m<module>\u001b[1;36m\u001b[0m\n\u001b[1;33m    import WXBizMsgCrypt as crypt_msg\u001b[0m\n",
      "\u001b[1;36m  File \u001b[1;32m\"C:\\Users\\I515013\\MyDev\\wechat-v2-zh\\WXBizMsgCrypt.py\"\u001b[1;36m, line \u001b[1;32m58\u001b[0m\n\u001b[1;33m    print e\u001b[0m\n\u001b[1;37m          ^\u001b[0m\n\u001b[1;31mSyntaxError\u001b[0m\u001b[1;31m:\u001b[0m Missing parentheses in call to 'print'. Did you mean print(e)?\n"
     ]
    }
   ],
   "source": [
    "import sapcai\n",
    "import WXBizMsgCrypt as crypt_msg\n",
    "import xml.etree.cElementTree as ET\n",
    "import requests\n",
    "import caiRq\n",
    "from webCache import Cache\n",
    "import json\n",
    "import numpy as np"
   ]
  },
  {
   "cell_type": "code",
   "execution_count": 2,
   "metadata": {},
   "outputs": [
    {
     "name": "stdout",
     "output_type": "stream",
     "text": [
      "Help on class Build in module sapcai.apis.build.build:\n",
      "\n",
      "class Build(builtins.object)\n",
      " |  Methods defined here:\n",
      " |  \n",
      " |  __init__(self, token=None, language=None, proxy=None)\n",
      " |      Initialize self.  See help(type(self)) for accurate signature.\n",
      " |  \n",
      " |  delete_conversation = wrapper(self, *args, **kwargs)\n",
      " |  \n",
      " |  dialog = wrapper(self, *args, **kwargs)\n",
      " |  \n",
      " |  get_conversation = wrapper(self, *args, **kwargs)\n",
      " |  \n",
      " |  headers(self)\n",
      " |  \n",
      " |  token_required(func)\n",
      " |  \n",
      " |  update_conversation = wrapper(self, *args, **kwargs)\n",
      " |  \n",
      " |  ----------------------------------------------------------------------\n",
      " |  Data descriptors defined here:\n",
      " |  \n",
      " |  __dict__\n",
      " |      dictionary for instance variables (if defined)\n",
      " |  \n",
      " |  __weakref__\n",
      " |      list of weak references to the object (if defined)\n",
      "\n"
     ]
    }
   ],
   "source": [
    "help(sapcai.Build)"
   ]
  },
  {
   "cell_type": "code",
   "execution_count": 3,
   "metadata": {},
   "outputs": [],
   "source": [
    "REQUEST_TOKEN = \"ee4a7412e20ae96843353c0fce71aa27\""
   ]
  },
  {
   "cell_type": "code",
   "execution_count": 8,
   "metadata": {},
   "outputs": [],
   "source": [
    "CON_ID = 8738264736"
   ]
  },
  {
   "cell_type": "code",
   "execution_count": 5,
   "metadata": {},
   "outputs": [],
   "source": [
    "build = sapcai.Build(REQUEST_TOKEN, 'zh')"
   ]
  },
  {
   "cell_type": "code",
   "execution_count": 6,
   "metadata": {},
   "outputs": [],
   "source": [
    "def talk(text_in):\n",
    "    if text_in != '':\n",
    "        response = build.dialog({'type': 'text', 'content': text_in}, CON_ID)\n",
    "        return response.messages\n",
    "    else:\n",
    "        return None"
   ]
  },
  {
   "cell_type": "code",
   "execution_count": 9,
   "metadata": {},
   "outputs": [
    {
     "data": {
      "text/plain": [
       "[<sapcai.apis.build.dialog_message.DialogMessage at 0x2534430f9e8>]"
      ]
     },
     "execution_count": 9,
     "metadata": {},
     "output_type": "execute_result"
    }
   ],
   "source": [
    "talk('待办事项')"
   ]
  },
  {
   "cell_type": "code",
   "execution_count": null,
   "metadata": {},
   "outputs": [],
   "source": []
  }
 ],
 "metadata": {
  "kernelspec": {
   "display_name": "Python 3",
   "language": "python",
   "name": "python3"
  },
  "language_info": {
   "codemirror_mode": {
    "name": "ipython",
    "version": 3
   },
   "file_extension": ".py",
   "mimetype": "text/x-python",
   "name": "python",
   "nbconvert_exporter": "python",
   "pygments_lexer": "ipython3",
   "version": "3.6.8"
  }
 },
 "nbformat": 4,
 "nbformat_minor": 2
}
