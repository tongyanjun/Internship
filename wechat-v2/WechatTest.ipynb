{
 "cells": [
  {
   "cell_type": "code",
   "execution_count": 3,
   "metadata": {},
   "outputs": [],
   "source": [
    "from caiRq import *"
   ]
  },
  {
   "cell_type": "code",
   "execution_count": 8,
   "metadata": {},
   "outputs": [],
   "source": [
    "def generate_task_id():\n",
    "    global card_num\n",
    "    card_num += 1\n",
    "    return str(np.random.randint(100000, 999999)) + str(card_num)"
   ]
  },
  {
   "cell_type": "code",
   "execution_count": 48,
   "metadata": {},
   "outputs": [],
   "source": [
    "response = talk('shanghai')"
   ]
  },
  {
   "cell_type": "code",
   "execution_count": 49,
   "metadata": {},
   "outputs": [
    {
     "name": "stdout",
     "output_type": "stream",
     "text": [
      "[<sapcai.apis.build.dialog_message.DialogMessage object at 0x000001D70701E278>, <sapcai.apis.build.dialog_message.DialogMessage object at 0x000001D70701E0B8>]\n"
     ]
    }
   ],
   "source": [
    "print(response)"
   ]
  },
  {
   "cell_type": "code",
   "execution_count": 50,
   "metadata": {},
   "outputs": [
    {
     "name": "stdout",
     "output_type": "stream",
     "text": [
      "text\n",
      "card\n"
     ]
    }
   ],
   "source": [
    "for res in response:\n",
    "    print(res.type)\n",
    "    "
   ]
  },
  {
   "cell_type": "code",
   "execution_count": 53,
   "metadata": {},
   "outputs": [],
   "source": [
    "res = response[1]"
   ]
  },
  {
   "cell_type": "code",
   "execution_count": 54,
   "metadata": {},
   "outputs": [
    {
     "data": {
      "text/plain": [
       "{'title': 'chinese restaurants at shanghai',\n",
       " 'subtitle': 'Please say \"Restaurants\" again to start a new search for restaurants!',\n",
       " 'imageUrl': 'https://cdn-images-1.medium.com/max/2000/1*e5XFcJqb57LkJc58TOV4sw.png',\n",
       " 'buttons': [{'value': 'https://www.yelp.com/search?find_desc=Restaurants+chinese&find_loc=shanghai',\n",
       "   'title': 'Results',\n",
       "   'type': 'web_url'}]}"
      ]
     },
     "execution_count": 54,
     "metadata": {},
     "output_type": "execute_result"
    }
   ],
   "source": [
    "res.content"
   ]
  },
  {
   "cell_type": "code",
   "execution_count": 45,
   "metadata": {},
   "outputs": [
    {
     "data": {
      "text/plain": [
       "{'title': '',\n",
       " 'buttons': [{'value': 'guide', 'title': 'Guided Answers', 'type': 'postback'},\n",
       "  {'value': 'classify',\n",
       "   'title': 'Diagnose Error Reported',\n",
       "   'type': 'postback'},\n",
       "  {'value': 'list', 'title': 'See your To do list', 'type': 'postback'}]}"
      ]
     },
     "execution_count": 45,
     "metadata": {},
     "output_type": "execute_result"
    }
   ],
   "source": [
    "response[3].content"
   ]
  },
  {
   "cell_type": "code",
   "execution_count": 55,
   "metadata": {},
   "outputs": [],
   "source": [
    "re = [{\"touser\": \"TongYanJun\", \"msgtype\": \"taskcard\", \"agentid\": \"1000002\", \"taskcard\": {\"description\": \" \", \"title\": \"\", \"btn\": [{\"touser\": \"TongYanJun\", \"msgtype\": \"taskcard\", \"agentid\": \"1000002\", \"taskcard\": {\"description\": \" \", \"title\": \"Guided Answers\", \"btn\": [{\"name\": \"Guided Answers\", \"key\": \"guide\"}], \"task_id\": \"47654723\"}}, {\"touser\": \"TongYanJun\", \"msgtype\": \"taskcard\", \"agentid\": \"1000002\", \"taskcard\": {\"description\": \" \", \"title\": \"Diagnose Error Reported\", \"btn\": [{\"name\": \"Diagnose Error Reported\", \"key\": \"classify\"}], \"task_id\": \"47654723\"}}, {\"touser\": \"TongYanJun\", \"msgtype\": \"taskcard\", \"agentid\": \"1000002\", \"taskcard\": {\"description\": \" \", \"title\": \"See your To do list\", \"btn\": [{\"name\": \"See your To do list\", \"key\": \"list\"}], \"task_id\": \"47654723\"}}], \"task_id\": \"47654723\"}}]"
   ]
  },
  {
   "cell_type": "code",
   "execution_count": 60,
   "metadata": {},
   "outputs": [
    {
     "data": {
      "text/plain": [
       "1"
      ]
     },
     "execution_count": 60,
     "metadata": {},
     "output_type": "execute_result"
    }
   ],
   "source": [
    "len(re)"
   ]
  },
  {
   "cell_type": "code",
   "execution_count": 66,
   "metadata": {},
   "outputs": [
    {
     "data": {
      "text/plain": [
       "[{'touser': 'TongYanJun',\n",
       "  'msgtype': 'taskcard',\n",
       "  'agentid': '1000002',\n",
       "  'taskcard': {'description': ' ',\n",
       "   'title': 'Guided Answers',\n",
       "   'btn': [{'name': 'Guided Answers', 'key': 'guide'}],\n",
       "   'task_id': '47654723'}},\n",
       " {'touser': 'TongYanJun',\n",
       "  'msgtype': 'taskcard',\n",
       "  'agentid': '1000002',\n",
       "  'taskcard': {'description': ' ',\n",
       "   'title': 'Diagnose Error Reported',\n",
       "   'btn': [{'name': 'Diagnose Error Reported', 'key': 'classify'}],\n",
       "   'task_id': '47654723'}},\n",
       " {'touser': 'TongYanJun',\n",
       "  'msgtype': 'taskcard',\n",
       "  'agentid': '1000002',\n",
       "  'taskcard': {'description': ' ',\n",
       "   'title': 'See your To do list',\n",
       "   'btn': [{'name': 'See your To do list', 'key': 'list'}],\n",
       "   'task_id': '47654723'}}]"
      ]
     },
     "execution_count": 66,
     "metadata": {},
     "output_type": "execute_result"
    }
   ],
   "source": [
    "re[0]['taskcard']['btn']"
   ]
  },
  {
   "cell_type": "code",
   "execution_count": 67,
   "metadata": {},
   "outputs": [
    {
     "data": {
      "text/plain": [
       "[{'touser': 'TongYanJun',\n",
       "  'msgtype': 'taskcard',\n",
       "  'agentid': '1000002',\n",
       "  'taskcard': {'description': ' ',\n",
       "   'title': '',\n",
       "   'btn': [{'touser': 'TongYanJun',\n",
       "     'msgtype': 'taskcard',\n",
       "     'agentid': '1000002',\n",
       "     'taskcard': {'description': ' ',\n",
       "      'title': 'Guided Answers',\n",
       "      'btn': [{'name': 'Guided Answers', 'key': 'guide'}],\n",
       "      'task_id': '47654723'}},\n",
       "    {'touser': 'TongYanJun',\n",
       "     'msgtype': 'taskcard',\n",
       "     'agentid': '1000002',\n",
       "     'taskcard': {'description': ' ',\n",
       "      'title': 'Diagnose Error Reported',\n",
       "      'btn': [{'name': 'Diagnose Error Reported', 'key': 'classify'}],\n",
       "      'task_id': '47654723'}},\n",
       "    {'touser': 'TongYanJun',\n",
       "     'msgtype': 'taskcard',\n",
       "     'agentid': '1000002',\n",
       "     'taskcard': {'description': ' ',\n",
       "      'title': 'See your To do list',\n",
       "      'btn': [{'name': 'See your To do list', 'key': 'list'}],\n",
       "      'task_id': '47654723'}}],\n",
       "   'task_id': '47654723'}}]"
      ]
     },
     "execution_count": 67,
     "metadata": {},
     "output_type": "execute_result"
    }
   ],
   "source": [
    "re"
   ]
  },
  {
   "cell_type": "code",
   "execution_count": 68,
   "metadata": {},
   "outputs": [
    {
     "data": {
      "text/plain": [
       "[{'touser': 'TongYanJun',\n",
       "  'msgtype': 'taskcard',\n",
       "  'agentid': '1000002',\n",
       "  'taskcard': {'description': ' ',\n",
       "   'title': '',\n",
       "   'btn': [{'touser': 'TongYanJun',\n",
       "     'msgtype': 'taskcard',\n",
       "     'agentid': '1000002',\n",
       "     'taskcard': {'description': ' ',\n",
       "      'title': 'Find restaurants',\n",
       "      'btn': [{'name': 'Find restaurants', 'key': 'Restaurants'}],\n",
       "      'task_id': '90310322'}},\n",
       "    {'touser': 'TongYanJun',\n",
       "     'msgtype': 'taskcard',\n",
       "     'agentid': '1000002',\n",
       "     'taskcard': {'description': ' ',\n",
       "      'title': 'Search in SAP help portal',\n",
       "      'btn': [{'name': 'Search in SAP help portal', 'key': 'search'}],\n",
       "      'task_id': '90310322'}},\n",
       "    {'touser': 'TongYanJun',\n",
       "     'msgtype': 'taskcard',\n",
       "     'agentid': '1000002',\n",
       "     'taskcard': {'description': ' ',\n",
       "      'title': 'Create an incident ticket',\n",
       "      'btn': [{'name': 'Create an incident ticket', 'key': 'incident'}],\n",
       "      'task_id': '90310322'}}],\n",
       "   'task_id': '90310322'}}]"
      ]
     },
     "execution_count": 68,
     "metadata": {},
     "output_type": "execute_result"
    }
   ],
   "source": [
    "[{\"touser\": \"TongYanJun\", \"msgtype\": \"taskcard\", \"agentid\": \"1000002\", \"taskcard\": {\"description\": \" \", \"title\": \"\", \"btn\": [{\"touser\": \"TongYanJun\", \"msgtype\": \"taskcard\", \"agentid\": \"1000002\", \"taskcard\": {\"description\": \" \", \"title\": \"Find restaurants\", \"btn\": [{\"name\": \"Find restaurants\", \"key\": \"Restaurants\"}], \"task_id\": \"90310322\"}}, {\"touser\": \"TongYanJun\", \"msgtype\": \"taskcard\", \"agentid\": \"1000002\", \"taskcard\": {\"description\": \" \", \"title\": \"Search in SAP help portal\", \"btn\": [{\"name\": \"Search in SAP help portal\", \"key\": \"search\"}], \"task_id\": \"90310322\"}}, {\"touser\": \"TongYanJun\", \"msgtype\": \"taskcard\", \"agentid\": \"1000002\", \"taskcard\": {\"description\": \" \", \"title\": \"Create an incident ticket\", \"btn\": [{\"name\": \"Create an incident ticket\", \"key\": \"incident\"}], \"task_id\": \"90310322\"}}], \"task_id\": \"90310322\"}}]"
   ]
  },
  {
   "cell_type": "code",
   "execution_count": 69,
   "metadata": {},
   "outputs": [
    {
     "data": {
      "text/plain": [
       "[{'agentid': '1000002',\n",
       "  'msgtype': 'taskcard',\n",
       "  'touser': 'TongYanJun',\n",
       "  'taskcard': {'title': '',\n",
       "   'task_id': '7087205',\n",
       "   'description': ' ',\n",
       "   'btn': [{'agentid': '1000002',\n",
       "     'msgtype': 'taskcard',\n",
       "     'touser': 'TongYanJun',\n",
       "     'taskcard': {'title': 'Guided Answers',\n",
       "      'task_id': '7087205',\n",
       "      'description': ' ',\n",
       "      'btn': [{'key': 'guide', 'name': 'Guided Answers'}]}},\n",
       "    {'agentid': '1000002',\n",
       "     'msgtype': 'taskcard',\n",
       "     'touser': 'TongYanJun',\n",
       "     'taskcard': {'title': 'Diagnose Error Reported',\n",
       "      'task_id': '7087205',\n",
       "      'description': ' ',\n",
       "      'btn': [{'key': 'classify', 'name': 'Diagnose Error Reported'}]}},\n",
       "    {'agentid': '1000002',\n",
       "     'msgtype': 'taskcard',\n",
       "     'touser': 'TongYanJun',\n",
       "     'taskcard': {'title': 'See your To do list',\n",
       "      'task_id': '7087205',\n",
       "      'description': ' ',\n",
       "      'btn': [{'key': 'list', 'name': 'See your To do list'}]}}]}}]"
      ]
     },
     "execution_count": 69,
     "metadata": {},
     "output_type": "execute_result"
    }
   ],
   "source": [
    "[{\"agentid\": \"1000002\", \"msgtype\": \"taskcard\", \"touser\": \"TongYanJun\", \"taskcard\": {\"title\": \"\", \"task_id\": \"7087205\", \"description\": \" \", \"btn\": [{\"agentid\": \"1000002\", \"msgtype\": \"taskcard\", \"touser\": \"TongYanJun\", \"taskcard\": {\"title\": \"Guided Answers\", \"task_id\": \"7087205\", \"description\": \" \", \"btn\": [{\"key\": \"guide\", \"name\": \"Guided Answers\"}]}}, {\"agentid\": \"1000002\", \"msgtype\": \"taskcard\", \"touser\": \"TongYanJun\", \"taskcard\": {\"title\": \"Diagnose Error Reported\", \"task_id\": \"7087205\", \"description\": \" \", \"btn\": [{\"key\": \"classify\", \"name\": \"Diagnose Error Reported\"}]}}, {\"agentid\": \"1000002\", \"msgtype\": \"taskcard\", \"touser\": \"TongYanJun\", \"taskcard\": {\"title\": \"See your To do list\", \"task_id\": \"7087205\", \"description\": \" \", \"btn\": [{\"key\": \"list\", \"name\": \"See your To do list\"}]}}]}}]"
   ]
  },
  {
   "cell_type": "code",
   "execution_count": null,
   "metadata": {},
   "outputs": [],
   "source": []
  }
 ],
 "metadata": {
  "kernelspec": {
   "display_name": "Python 3",
   "language": "python",
   "name": "python3"
  },
  "language_info": {
   "codemirror_mode": {
    "name": "ipython",
    "version": 3
   },
   "file_extension": ".py",
   "mimetype": "text/x-python",
   "name": "python",
   "nbconvert_exporter": "python",
   "pygments_lexer": "ipython3",
   "version": "3.6.8"
  }
 },
 "nbformat": 4,
 "nbformat_minor": 2
}
